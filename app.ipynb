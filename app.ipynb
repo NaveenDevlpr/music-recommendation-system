{
 "cells": [
  {
   "cell_type": "code",
   "execution_count": 2,
   "id": "33a01879",
   "metadata": {},
   "outputs": [],
   "source": [
    "import pandas as pd"
   ]
  },
  {
   "cell_type": "code",
   "execution_count": 3,
   "id": "20ee6984",
   "metadata": {},
   "outputs": [],
   "source": [
    "songs=pd.read_csv('spotify_millsongdata.csv')"
   ]
  },
  {
   "cell_type": "code",
   "execution_count": 4,
   "id": "fc2a03d0",
   "metadata": {},
   "outputs": [
    {
     "data": {
      "text/html": [
       "<div>\n",
       "<style scoped>\n",
       "    .dataframe tbody tr th:only-of-type {\n",
       "        vertical-align: middle;\n",
       "    }\n",
       "\n",
       "    .dataframe tbody tr th {\n",
       "        vertical-align: top;\n",
       "    }\n",
       "\n",
       "    .dataframe thead th {\n",
       "        text-align: right;\n",
       "    }\n",
       "</style>\n",
       "<table border=\"1\" class=\"dataframe\">\n",
       "  <thead>\n",
       "    <tr style=\"text-align: right;\">\n",
       "      <th></th>\n",
       "      <th>artist</th>\n",
       "      <th>song</th>\n",
       "      <th>link</th>\n",
       "      <th>text</th>\n",
       "    </tr>\n",
       "  </thead>\n",
       "  <tbody>\n",
       "    <tr>\n",
       "      <th>0</th>\n",
       "      <td>ABBA</td>\n",
       "      <td>Ahe's My Kind Of Girl</td>\n",
       "      <td>/a/abba/ahes+my+kind+of+girl_20598417.html</td>\n",
       "      <td>Look at her face, it's a wonderful face  \\r\\nA...</td>\n",
       "    </tr>\n",
       "    <tr>\n",
       "      <th>1</th>\n",
       "      <td>ABBA</td>\n",
       "      <td>Andante, Andante</td>\n",
       "      <td>/a/abba/andante+andante_20002708.html</td>\n",
       "      <td>Take it easy with me, please  \\r\\nTouch me gen...</td>\n",
       "    </tr>\n",
       "    <tr>\n",
       "      <th>2</th>\n",
       "      <td>ABBA</td>\n",
       "      <td>As Good As New</td>\n",
       "      <td>/a/abba/as+good+as+new_20003033.html</td>\n",
       "      <td>I'll never know why I had to go  \\r\\nWhy I had...</td>\n",
       "    </tr>\n",
       "    <tr>\n",
       "      <th>3</th>\n",
       "      <td>ABBA</td>\n",
       "      <td>Bang</td>\n",
       "      <td>/a/abba/bang_20598415.html</td>\n",
       "      <td>Making somebody happy is a question of give an...</td>\n",
       "    </tr>\n",
       "    <tr>\n",
       "      <th>4</th>\n",
       "      <td>ABBA</td>\n",
       "      <td>Bang-A-Boomerang</td>\n",
       "      <td>/a/abba/bang+a+boomerang_20002668.html</td>\n",
       "      <td>Making somebody happy is a question of give an...</td>\n",
       "    </tr>\n",
       "  </tbody>\n",
       "</table>\n",
       "</div>"
      ],
      "text/plain": [
       "  artist                   song                                        link  \\\n",
       "0   ABBA  Ahe's My Kind Of Girl  /a/abba/ahes+my+kind+of+girl_20598417.html   \n",
       "1   ABBA       Andante, Andante       /a/abba/andante+andante_20002708.html   \n",
       "2   ABBA         As Good As New        /a/abba/as+good+as+new_20003033.html   \n",
       "3   ABBA                   Bang                  /a/abba/bang_20598415.html   \n",
       "4   ABBA       Bang-A-Boomerang      /a/abba/bang+a+boomerang_20002668.html   \n",
       "\n",
       "                                                text  \n",
       "0  Look at her face, it's a wonderful face  \\r\\nA...  \n",
       "1  Take it easy with me, please  \\r\\nTouch me gen...  \n",
       "2  I'll never know why I had to go  \\r\\nWhy I had...  \n",
       "3  Making somebody happy is a question of give an...  \n",
       "4  Making somebody happy is a question of give an...  "
      ]
     },
     "execution_count": 4,
     "metadata": {},
     "output_type": "execute_result"
    }
   ],
   "source": [
    "songs.head()"
   ]
  },
  {
   "cell_type": "code",
   "execution_count": 5,
   "id": "5a8425cd",
   "metadata": {},
   "outputs": [
    {
     "data": {
      "text/plain": [
       "(57650, 4)"
      ]
     },
     "execution_count": 5,
     "metadata": {},
     "output_type": "execute_result"
    }
   ],
   "source": [
    "songs.shape"
   ]
  },
  {
   "cell_type": "code",
   "execution_count": 6,
   "id": "99e7fb42",
   "metadata": {},
   "outputs": [
    {
     "data": {
      "text/plain": [
       "artist    0\n",
       "song      0\n",
       "link      0\n",
       "text      0\n",
       "dtype: int64"
      ]
     },
     "execution_count": 6,
     "metadata": {},
     "output_type": "execute_result"
    }
   ],
   "source": [
    "songs.isnull().sum()"
   ]
  },
  {
   "cell_type": "code",
   "execution_count": 7,
   "id": "3dad1525",
   "metadata": {},
   "outputs": [],
   "source": [
    "songs.drop(columns=['link'],inplace=True)"
   ]
  },
  {
   "cell_type": "code",
   "execution_count": 8,
   "id": "e2573fff",
   "metadata": {},
   "outputs": [
    {
     "data": {
      "text/plain": [
       "(57650, 3)"
      ]
     },
     "execution_count": 8,
     "metadata": {},
     "output_type": "execute_result"
    }
   ],
   "source": [
    "songs.shape"
   ]
  },
  {
   "cell_type": "code",
   "execution_count": 9,
   "id": "394cacef",
   "metadata": {},
   "outputs": [
    {
     "data": {
      "text/html": [
       "<div>\n",
       "<style scoped>\n",
       "    .dataframe tbody tr th:only-of-type {\n",
       "        vertical-align: middle;\n",
       "    }\n",
       "\n",
       "    .dataframe tbody tr th {\n",
       "        vertical-align: top;\n",
       "    }\n",
       "\n",
       "    .dataframe thead th {\n",
       "        text-align: right;\n",
       "    }\n",
       "</style>\n",
       "<table border=\"1\" class=\"dataframe\">\n",
       "  <thead>\n",
       "    <tr style=\"text-align: right;\">\n",
       "      <th></th>\n",
       "      <th>artist</th>\n",
       "      <th>song</th>\n",
       "      <th>text</th>\n",
       "    </tr>\n",
       "  </thead>\n",
       "  <tbody>\n",
       "    <tr>\n",
       "      <th>0</th>\n",
       "      <td>ABBA</td>\n",
       "      <td>Ahe's My Kind Of Girl</td>\n",
       "      <td>Look at her face, it's a wonderful face  \\r\\nA...</td>\n",
       "    </tr>\n",
       "    <tr>\n",
       "      <th>1</th>\n",
       "      <td>ABBA</td>\n",
       "      <td>Andante, Andante</td>\n",
       "      <td>Take it easy with me, please  \\r\\nTouch me gen...</td>\n",
       "    </tr>\n",
       "    <tr>\n",
       "      <th>2</th>\n",
       "      <td>ABBA</td>\n",
       "      <td>As Good As New</td>\n",
       "      <td>I'll never know why I had to go  \\r\\nWhy I had...</td>\n",
       "    </tr>\n",
       "    <tr>\n",
       "      <th>3</th>\n",
       "      <td>ABBA</td>\n",
       "      <td>Bang</td>\n",
       "      <td>Making somebody happy is a question of give an...</td>\n",
       "    </tr>\n",
       "    <tr>\n",
       "      <th>4</th>\n",
       "      <td>ABBA</td>\n",
       "      <td>Bang-A-Boomerang</td>\n",
       "      <td>Making somebody happy is a question of give an...</td>\n",
       "    </tr>\n",
       "  </tbody>\n",
       "</table>\n",
       "</div>"
      ],
      "text/plain": [
       "  artist                   song  \\\n",
       "0   ABBA  Ahe's My Kind Of Girl   \n",
       "1   ABBA       Andante, Andante   \n",
       "2   ABBA         As Good As New   \n",
       "3   ABBA                   Bang   \n",
       "4   ABBA       Bang-A-Boomerang   \n",
       "\n",
       "                                                text  \n",
       "0  Look at her face, it's a wonderful face  \\r\\nA...  \n",
       "1  Take it easy with me, please  \\r\\nTouch me gen...  \n",
       "2  I'll never know why I had to go  \\r\\nWhy I had...  \n",
       "3  Making somebody happy is a question of give an...  \n",
       "4  Making somebody happy is a question of give an...  "
      ]
     },
     "execution_count": 9,
     "metadata": {},
     "output_type": "execute_result"
    }
   ],
   "source": [
    "songs.head()"
   ]
  },
  {
   "cell_type": "code",
   "execution_count": 10,
   "id": "da27eb79",
   "metadata": {},
   "outputs": [
    {
     "data": {
      "text/html": [
       "<div>\n",
       "<style scoped>\n",
       "    .dataframe tbody tr th:only-of-type {\n",
       "        vertical-align: middle;\n",
       "    }\n",
       "\n",
       "    .dataframe tbody tr th {\n",
       "        vertical-align: top;\n",
       "    }\n",
       "\n",
       "    .dataframe thead th {\n",
       "        text-align: right;\n",
       "    }\n",
       "</style>\n",
       "<table border=\"1\" class=\"dataframe\">\n",
       "  <thead>\n",
       "    <tr style=\"text-align: right;\">\n",
       "      <th></th>\n",
       "      <th>artist</th>\n",
       "      <th>song</th>\n",
       "      <th>text</th>\n",
       "    </tr>\n",
       "  </thead>\n",
       "  <tbody>\n",
       "    <tr>\n",
       "      <th>0</th>\n",
       "      <td>ABBA</td>\n",
       "      <td>Ahe's My Kind Of Girl</td>\n",
       "      <td>Look at her face, it's a wonderful face  \\r\\nA...</td>\n",
       "    </tr>\n",
       "    <tr>\n",
       "      <th>1</th>\n",
       "      <td>ABBA</td>\n",
       "      <td>Andante, Andante</td>\n",
       "      <td>Take it easy with me, please  \\r\\nTouch me gen...</td>\n",
       "    </tr>\n",
       "    <tr>\n",
       "      <th>2</th>\n",
       "      <td>ABBA</td>\n",
       "      <td>As Good As New</td>\n",
       "      <td>I'll never know why I had to go  \\r\\nWhy I had...</td>\n",
       "    </tr>\n",
       "    <tr>\n",
       "      <th>3</th>\n",
       "      <td>ABBA</td>\n",
       "      <td>Bang</td>\n",
       "      <td>Making somebody happy is a question of give an...</td>\n",
       "    </tr>\n",
       "    <tr>\n",
       "      <th>4</th>\n",
       "      <td>ABBA</td>\n",
       "      <td>Bang-A-Boomerang</td>\n",
       "      <td>Making somebody happy is a question of give an...</td>\n",
       "    </tr>\n",
       "  </tbody>\n",
       "</table>\n",
       "</div>"
      ],
      "text/plain": [
       "  artist                   song  \\\n",
       "0   ABBA  Ahe's My Kind Of Girl   \n",
       "1   ABBA       Andante, Andante   \n",
       "2   ABBA         As Good As New   \n",
       "3   ABBA                   Bang   \n",
       "4   ABBA       Bang-A-Boomerang   \n",
       "\n",
       "                                                text  \n",
       "0  Look at her face, it's a wonderful face  \\r\\nA...  \n",
       "1  Take it easy with me, please  \\r\\nTouch me gen...  \n",
       "2  I'll never know why I had to go  \\r\\nWhy I had...  \n",
       "3  Making somebody happy is a question of give an...  \n",
       "4  Making somebody happy is a question of give an...  "
      ]
     },
     "execution_count": 10,
     "metadata": {},
     "output_type": "execute_result"
    }
   ],
   "source": [
    "songs.reset_index(drop=True)\n",
    "songs.head()"
   ]
  },
  {
   "cell_type": "code",
   "execution_count": 11,
   "id": "454f2789",
   "metadata": {},
   "outputs": [],
   "source": [
    "songs=songs.sample(6000)"
   ]
  },
  {
   "cell_type": "code",
   "execution_count": 12,
   "id": "bf1e232c",
   "metadata": {},
   "outputs": [],
   "source": [
    "songs['text']=songs['text'].str.lower().replace(r'^\\w\\s','').replace(r'\\n','',regex=True)"
   ]
  },
  {
   "cell_type": "code",
   "execution_count": null,
   "id": "954d395e",
   "metadata": {},
   "outputs": [],
   "source": [
    "def show(data):\n",
    "    print(  data)"
   ]
  },
  {
   "cell_type": "code",
   "execution_count": 14,
   "id": "7d41b44f",
   "metadata": {},
   "outputs": [
    {
     "name": "stdout",
     "output_type": "stream",
     "text": [
      "if it's a crime, how come i feel no pain.e      \n",
      "i'll do it although i'm not supposed to care  \n",
      "(shoo-bop, shoo-bop, my baby)  gain  ugh  efore  \n",
      "  ow true love ways   care    ways  \n",
      "go home, little girl you better go homenow     m the start    me  \n"
     ]
    },
    {
     "data": {
      "text/plain": [
       "31912    None\n",
       "34307    None\n",
       "49425    None\n",
       "31783    None\n",
       "18899    None\n",
       "Name: text, dtype: object"
      ]
     },
     "execution_count": 14,
     "metadata": {},
     "output_type": "execute_result"
    }
   ],
   "source": [
    "songs['text'].head().apply(show)"
   ]
  },
  {
   "cell_type": "code",
   "execution_count": 17,
   "id": "346dce6a",
   "metadata": {},
   "outputs": [
    {
     "name": "stderr",
     "output_type": "stream",
     "text": [
      "[nltk_data] Downloading package stopwords to\n",
      "[nltk_data]     C:\\Users\\navee\\AppData\\Roaming\\nltk_data...\n",
      "[nltk_data]   Package stopwords is already up-to-date!\n"
     ]
    },
    {
     "data": {
      "text/plain": [
       "True"
      ]
     },
     "execution_count": 17,
     "metadata": {},
     "output_type": "execute_result"
    }
   ],
   "source": [
    "import nltk\n",
    "from nltk.corpus import stopwords\n",
    "from nltk.tokenize import word_tokenize\n",
    "from nltk.stem.porter import PorterStemmer\n",
    "nltk.download('stopwords')"
   ]
  },
  {
   "cell_type": "code",
   "execution_count": 16,
   "id": "58ad2943",
   "metadata": {},
   "outputs": [],
   "source": [
    "stemmer=PorterStemmer()"
   ]
  },
  {
   "cell_type": "code",
   "execution_count": null,
   "id": "acbb753d",
   "metadata": {},
   "outputs": [],
   "source": [
    "def tokenize(data):\n",
    "    data=word_tokenize(data)\n",
    "    a=[stemmer.stem(word) for word in data if word not in stopwords.words('english')]\n",
    "    return ' '.join(a)"
   ]
  },
  {
   "cell_type": "code",
   "execution_count": null,
   "id": "d7375cd7",
   "metadata": {},
   "outputs": [
    {
     "name": "stdout",
     "output_type": "stream",
     "text": [
      "['when', 'lights', 'go', 'down', ',', 'i', 'see', 'no', 'reason', 'for', 'you', 'to', 'cry', '.', 'we', \"'ve\", 'been', 'through', 'this', 'before', 'in', 'every', 'time', ',', 'in', 'every', 'season', ',', 'god', 'knows', 'i', \"'ve\", 'tried', 'so', 'please', 'do', \"n't\", 'ask', 'for', 'more', '.', 'ca', \"n't\", 'you', 'see', 'it', 'in', 'my', 'eyes', 'this', 'might', 'be', 'our', 'last', 'goodbye', 'carrie', ',', 'carrie', ',', 'things', 'they', 'change', 'my', 'friend', 'carrie', ',', 'carrie', ',', 'maybe', 'we', \"'ll\", 'meet', 'again', 'i', 'read', 'your', 'mind', ',', 'with', 'no', 'intentions', 'of', 'being', 'unkind', ',', 'i', 'wish', 'i', 'could', 'explain', 'it', 'all', 'takes', 'time', ',', 'a', 'whole', 'lot', 'of', 'patience', 'if', 'it', \"'s\", 'a', 'crime', ',', 'how', 'come', 'i', 'feel', 'no', 'pain', '.']\n",
      "['i', 'think', 'you', 'have', 'somebody', 'waiting', 'outside', 'in', 'the', 'rain', 'to', 'take', 'you', 'away', 'you', 'got', 'places', 'to', 'go', ',', 'you', 'got', 'people', 'to', 'see', 'still', 'i', \"'m\", 'gon', 'na', 'miss', 'you', 'but', 'anyway', 'i', 'wish', 'you', 'good', 'spaces', 'in', 'the', 'far', 'away', 'places', 'you', 'go', 'if', 'it', 'rains', 'or', 'it', 'snows', 'may', 'you', 'be', 'safe', 'and', 'warm', 'and', 'never', 'grow', 'old', 'and', 'if', 'you', 'need', 'someone', 'who', 'loves', 'you', ',', 'why', 'you', 'know', 'i', 'will', 'always', 'be', 'there', 'i', \"'ll\", 'do', 'it', 'although', 'i', \"'m\", 'not', 'supposed', 'to', 'care', 'i', \"'ll\", 'give', 'you', 'the', 'keys', 'to', 'my', 'flying', 'machine', 'if', 'you', \"'d\", 'like', 'i', 'will', 'show', 'you', 'the', 'light', 'and', 'when', 'you', 'call', 'i', \"'m\", 'gon', 'na', 'come', 'to', 'you', 'and', 'when', 'you', 'find', 'someone', 'who', 'loves', 'you', ',', 'i', \"'ll\", 'know', 'you', 'would', 'treat', 'me', 'the', 'same', 'just', 'lie', 'there', ',', 'you', \"'re\", 'not', 'supposed', 'to', 'care', 'i', 'think', 'you', 'have', 'somebody', 'waiting', 'outside', 'in', 'the', 'rain', 'to', 'take', 'you', 'away', '.', 'that', \"'s\", 'some', 'kind', 'of', 'a', 'game', 'still', 'i', \"'m\", 'glad', 'it', 'came', 'down', 'to', 'the', 'final', 'round', 'but', 'anyway', 'if', 'you', 'think', 'you', 'need', 'someone', 'who', 'needs', 'you', ',', 'you', 'know', 'i', 'will', 'always', 'be', 'there', 'i', \"'ll\", 'do', 'it', 'although', 'i', \"'m\", 'not', 'supposed', 'to', 'care', 'i', \"'ll\", 'do', 'it', 'although', 'i', \"'m\", 'not', 'supposed', 'to', 'care']\n",
      "['(', 'shoo-bop', ',', 'shoo-bop', ',', 'my', 'baby', ')', '(', 'shoo-bop', ',', 'shoo-bop', ')', 'hello', ',', 'stranger', '(', 'ooh', ')', 'it', 'seems', 'so', 'good', 'to', 'see', 'you', 'back', 'again', 'how', 'long', 'has', 'it', 'been', '?', '(', 'ooh', ',', 'seems', 'like', 'a', 'mighty', 'long', 'time', ')', '(', 'shoo-bop', ',', 'shoo-bop', ',', 'my', 'baby', ',', 'ooh', ')', 'it', 'seems', 'like', 'a', 'mighty', 'long', 'time', 'oh-uh-oh', ',', 'i', 'my', ',', 'my', ',', 'my', ',', 'm', 'i', \"'m\", 'so', 'glad', 'you', 'stopped', 'by', 'to', 'say', '``', 'hello', \"''\", 'to', 'me', 'remember', 'that', \"'s\", 'the', 'way', 'it', 'used', 'to', 'be', 'ooh', ',', 'it', 'seems', 'like', 'a', 'mighty', 'long', 'time', '(', 'shoo-bop', ',', 'shoo-bop', ',', 'my', 'baby', ',', 'ooh', ')', 'oh-uh-oh', 'i', \"'m\", 'so', 'glad', 'you', \"'re\", 'here', 'again', 'oh-uh-oh', 'shoo-bop', ',', 'shoo-bop', ',', 'my', 'baby', 'shoo-bop', ',', 'shoo-bop', ',', 'my', 'baby', 'oh-ahh-uh-oh', 'if', 'you', \"'re\", 'not', 'gon', 'na', 'stay', '(', 'ooh', ')', 'please', 'do', \"n't\", 'treat', 'me', 'like', 'you', 'did', 'before', 'because', 'i', 'still', 'love', 'you', 'so', 'a-a-although', 'it', 'seems', 'like', 'a', 'mighty', 'long', 'time', 'shoo-bop', ',', 'shoo-bop', ',', 'my', 'baby', ',', 'ooh', 'it', 'seems', 'like', 'a', 'mighty', 'long', 'time', 'oh-uh-oh', ',', 'i', 'my', ',', 'my', ',', 'my', ',', 'my', 'i', \"'m\", 'so', 'happy', 'that', 'you', \"'re\", 'here', 'again', '(', 'shoo-bop', ',', 'shoo-bop', ',', 'my', 'baby', ')']\n",
      "['just', 'you', 'know', 'why', 'why', 'you', 'and', 'i', 'will', 'by', 'and', 'by', 'know', 'true', 'love', 'ways', 'sometimes', 'we', \"'ll\", 'sigh', 'sometimes', 'we', \"'ll\", 'cry', 'and', 'we', \"'ll\", 'know', 'why', 'just', 'you', 'and', 'i', 'know', 'true', 'love', 'ways', 'throughout', 'the', 'days', 'our', 'true', 'love', 'ways', 'will', 'bring', 'us', 'joys', 'to', 'share', 'with', 'those', 'who', 'really', 'care', 'sometimes', 'we', \"'ll\", 'sigh', 'sometimes', 'we', \"'ll\", 'cry', 'and', 'we', \"'ll\", 'know', 'why', 'just', 'you', 'and', 'i', 'know', 'true', 'love', 'ways', 'throughout', 'the', 'days', 'our', 'true', 'love', 'ways', 'will', 'bring', 'us', 'joys', 'to', 'share', 'with', 'those', 'who', 'really', 'care', 'sometimes', 'we', \"'ll\", 'sigh', 'sometimes', 'we', \"'ll\", 'cry', 'and', 'we', \"'ll\", 'know', 'why', 'just', 'you', 'and', 'i', 'know', 'true', 'love', 'ways']\n",
      "['her', 'parents', 'said', ',', 'girl', 'do', \"n't\", 'leave', 'home', 'but', 'her', 'heart', 'kept', 'cheering', 'her', 'on', 'she', 'had', 'a', 'real', 'good', 'man', ',', 'steady', 'job', 'but', 'the', 'two', 'of', 'them', 'just', 'were', \"n't\", 'in', 'her', 'heart', 'she', 'only', 'wanted', 'to', 'be', 'close', 'to', 'me', 'to', 'give', 'me', 'the', 'love', 'she', 'knew', 'someday', 'i', \"'d\", 'need', 'but', 'i', 'kept', 'saying', 'girl', 'you', \"'re\", 'wrong', ',', 'go', 'home', 'long', 'days', ',', 'short', 'nights', 'when', 'you', \"'re\", 'on', 'the', 'road', 'for', 'a', 'pretty', 'girl', 'it', \"'s\", 'a', 'heavy', 'load', 'and', 'even', 'so', 'who', \"'ll\", 'pay', 'your', 'fare', 'she', 'said', 'i', \"'ll\", 'make', 'it', 'on', 'a', 'wing', 'and', 'a', 'prayer', 'she', 'only', 'wanted', 'to', 'be', 'close', 'to', 'me', 'to', 'give', 'me', 'the', 'love', 'she', 'knew', 'someday', 'i', \"'d\", 'need', 'but', 'i', 'kept', 'saying', 'girl', 'you', \"'re\", 'wrong', ',', 'go', 'home', 'she', 'said', 'i', \"'ve\", 'on', 'right', 'to', 'tell', 'her', 'how', 'life', 'should', 'be', 'especially', 'when', 'the', 'only', 'one', 'she', 'ever', 'cared', 'about', 'in', 'life', 'was', 'me', 'but', 'she', 'agreed', 'to', 'go', 'along', 'with', 'my', 'final', 'word', 'as', 'fate', 'would', 'have', 'life', 'come', 'around', 'my', 'world', 'started', 'tumbling', 'down', 'i', 'lost', 'my', 'family', ',', 'my', 'friends', 'and', 'job', 'and', 'set', 'free', 'the', 'only', 'one', 'who', 'stuck', 'with', 'me', 'from', 'the', 'start', 'she', 'only', 'wanted', 'to', 'be', 'close', 'to', 'me', 'to', 'give', 'me', 'the', 'love', 'she', 'knew', 'someday', 'i', \"'d\", 'need', 'but', 'i', 'kept', 'saying', 'girl', 'you', \"'re\", 'wrong', ',', 'go', 'home', 'she', 'said', 'i', \"'ve\", 'on', 'right', 'to', 'tell', 'her', 'how', 'life', 'should', 'be', 'especially', 'when', 'the', 'only', 'one', 'she', 'ever', 'cared', 'about', 'in', 'life', 'was', 'me', 'but', 'she', 'agreed', 'to', 'go', 'along', 'with', 'my', 'final', 'word', ',', 'my', 'final', 'word', 'as', 'fate', 'would', 'have', 'life', 'come', 'around', 'my', 'world', 'started', 'tumbling', 'down', 'i', 'lost', 'my', 'family', ',', 'my', 'friends', 'and', 'job', 'and', 'set', 'free', 'the', 'only', 'one', 'who', 'stuck', 'with', 'me', 'from', 'the', 'start', 'she', 'only', 'wanted', 'to', 'be', 'close', 'to', 'me', 'to', 'give', 'me', 'the', 'love', 'she', 'knew', 'someday', 'i', \"'d\", 'need', 'but', 'i', 'kept', 'saying', 'girl', 'you', \"'re\", 'wrong', ',', 'go', 'home', 'she', 'only', 'wanted', 'to', 'be', 'close', 'to', 'me', 'to', 'give', 'me', 'the', 'love', 'she', 'knew', 'someday', 'i', \"'d\", 'need', 'but', 'i', 'kept', 'saying', 'girl', 'you', \"'re\", 'wrong', ',', 'go', 'home', 'go', 'home', 'baby', ',', 'you', 'better', 'go', 'home', 'right', 'now', 'go', 'home', ',', 'little', 'girl', 'you', 'better', 'go', 'home']\n"
     ]
    },
    {
     "data": {
      "text/plain": [
       "31912    None\n",
       "34307    None\n",
       "49425    None\n",
       "31783    None\n",
       "18899    None\n",
       "Name: text, dtype: object"
      ]
     },
     "execution_count": 22,
     "metadata": {},
     "output_type": "execute_result"
    }
   ],
   "source": [
    "songs['text'].head().apply(tokenize)"
   ]
  },
  {
   "cell_type": "code",
   "execution_count": 24,
   "id": "e6df12b0",
   "metadata": {},
   "outputs": [],
   "source": [
    "from sklearn.feature_extraction.text import TfidfVectorizer\n",
    "from sklearn.metrics.pairwise import cosine_similarity"
   ]
  },
  {
   "cell_type": "code",
   "execution_count": 27,
   "id": "94044e5f",
   "metadata": {},
   "outputs": [],
   "source": [
    "vectorizer=TfidfVectorizer()"
   ]
  },
  {
   "cell_type": "code",
   "execution_count": 32,
   "id": "2c29e351",
   "metadata": {},
   "outputs": [],
   "source": [
    "text=['hi im messiah','hi im naveen']"
   ]
  },
  {
   "cell_type": "code",
   "execution_count": 40,
   "id": "7d0e1ed9",
   "metadata": {},
   "outputs": [],
   "source": [
    "result=vectorizer.fit_transform(text)"
   ]
  },
  {
   "cell_type": "code",
   "execution_count": 34,
   "id": "905cd666",
   "metadata": {},
   "outputs": [
    {
     "data": {
      "text/plain": [
       "{'hi': 0, 'im': 1, 'messiah': 2, 'naveen': 3}"
      ]
     },
     "execution_count": 34,
     "metadata": {},
     "output_type": "execute_result"
    }
   ],
   "source": [
    "vectorizer.vocabulary_"
   ]
  },
  {
   "cell_type": "code",
   "execution_count": 39,
   "id": "33ac7a3b",
   "metadata": {},
   "outputs": [
    {
     "data": {
      "text/plain": [
       "array(['hi', 'im', 'messiah', 'naveen'], dtype=object)"
      ]
     },
     "execution_count": 39,
     "metadata": {},
     "output_type": "execute_result"
    }
   ],
   "source": [
    "vectorizer.get_feature_names_out()\n"
   ]
  },
  {
   "cell_type": "code",
   "execution_count": 41,
   "id": "859d7380",
   "metadata": {},
   "outputs": [
    {
     "data": {
      "text/plain": [
       "array([[0.50154891, 0.50154891, 0.70490949, 0.        ]])"
      ]
     },
     "execution_count": 41,
     "metadata": {},
     "output_type": "execute_result"
    }
   ],
   "source": [
    "result[0].toarray()"
   ]
  },
  {
   "cell_type": "code",
   "execution_count": 42,
   "id": "9c0328b7",
   "metadata": {},
   "outputs": [
    {
     "data": {
      "text/plain": [
       "array([[0.50154891, 0.50154891, 0.        , 0.70490949]])"
      ]
     },
     "execution_count": 42,
     "metadata": {},
     "output_type": "execute_result"
    }
   ],
   "source": [
    "result[1].toarray()"
   ]
  }
 ],
 "metadata": {
  "kernelspec": {
   "display_name": "venv",
   "language": "python",
   "name": "python3"
  },
  "language_info": {
   "codemirror_mode": {
    "name": "ipython",
    "version": 3
   },
   "file_extension": ".py",
   "mimetype": "text/x-python",
   "name": "python",
   "nbconvert_exporter": "python",
   "pygments_lexer": "ipython3",
   "version": "3.11.7"
  }
 },
 "nbformat": 4,
 "nbformat_minor": 5
}
